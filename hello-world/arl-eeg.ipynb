{
 "cells": [
  {
   "cell_type": "code",
   "execution_count": 29,
   "metadata": {},
   "outputs": [],
   "source": [
    "import sys\n",
    "sys.path.append(\"/Users/kang828/Documents/GitHub/arl-eegmodels\")\n",
    "\n",
    "import tensorflow as tf\n",
    "import tensorflowjs as tfjs\n",
    "import pandas as pd\n",
    "import numpy as np\n",
    "\n",
    "import seaborn as sns\n",
    "import datetime\n",
    "\n",
    "import scipy as sp\n",
    "import pywt\n",
    "\n",
    "from EEGModels import EEGNet, ShallowConvNet, DeepConvNet\n"
   ]
  },
  {
   "cell_type": "code",
   "execution_count": 30,
   "metadata": {},
   "outputs": [],
   "source": [
    "# names = [\"Chris\", \"Jack\", \"Jacob\", \"Karuna\", \"Rena\"]\n",
    "names = [\"Jacob\", \"Karuna\", \"Rena\"]\n",
    "statuses = [\"open\", \"close\"]\n",
    "\n",
    "original_files = {}\n",
    "\n",
    "for name in names:\n",
    "    for status in statuses:\n",
    "        file_prefix = name + \"_\" + status + \"_\"\n",
    "\n",
    "        for idx in range(1, 3):\n",
    "            filename = file_prefix + str(idx)\n",
    "\n",
    "            loaded_file = pd.read_pickle(filename)\n",
    "            label = 1 if status == \"close\" else 0\n",
    "\n",
    "            original_files[filename] = (loaded_file, label)\n"
   ]
  },
  {
   "cell_type": "code",
   "execution_count": 62,
   "metadata": {},
   "outputs": [],
   "source": [
    "def produce_full_mat():\n",
    "    names = [\"Jacob\", \"Karuna\", \"Rena\"]\n",
    "    statuses = [\"open\", \"close\"]\n",
    "\n",
    "    out = {}\n",
    "\n",
    "    for name in names:\n",
    "        for status in statuses:\n",
    "            file_prefix = name + \"_\" + status + \"_\"\n",
    "\n",
    "            for idx in range(1, 3):\n",
    "                filename = file_prefix + str(idx)\n",
    "\n",
    "                loaded_file = pd.read_pickle(filename)\n",
    "                label = 1 if status == \"close\" else 0\n",
    "\n",
    "                out[filename] = (loaded_file, label)\n",
    "    return out\n",
    "\n",
    "def produce_old_data():\n",
    "    names = [\"karuna\", \"rena\"]\n",
    "    statuses = [\"open\", \"closed\"]\n",
    "\n",
    "    out = {}\n",
    "\n",
    "    for name in names:\n",
    "        for status in statuses:\n",
    "            file_prefix = \"./Archive/\" + name + \"_\" + status + \"_\"\n",
    "\n",
    "            for idx in range(1, 3):\n",
    "                filename = file_prefix + str(idx)\n",
    "\n",
    "                loaded_file = pd.read_pickle(filename)\n",
    "                label = 1 if status == \"closed\" else 0\n",
    "\n",
    "                out[filename] = (loaded_file, label)\n",
    "    return out\n",
    "\n",
    "def get_specialized_data(filename, label):\n",
    "    out = {}\n",
    "    loaded_file = pd.read_pickle(filename)\n",
    "    out[filename] = (loaded_file, label)\n",
    "    return out\n"
   ]
  },
  {
   "cell_type": "code",
   "execution_count": 32,
   "metadata": {},
   "outputs": [],
   "source": [
    "def normalize_data(full_matrix):\n",
    "    assert full_matrix.shape[1] == 4\n",
    "\n",
    "    out = np.zeros(full_matrix.shape)\n",
    "    counter = 0\n",
    "\n",
    "    for col in full_matrix.T:\n",
    "\n",
    "        ## want to normalize so that the average is 0\n",
    "        ## and the mean is 1\n",
    "        zero_mean = col - np.mean(col)\n",
    "        one_std = zero_mean / np.std(zero_mean)\n",
    "        out[:, counter] = one_std\n",
    "        counter += 1\n",
    "    \n",
    "    assert out.shape == full_matrix.shape\n",
    "    return out\n",
    "\n",
    "def normalize_wavelet(full_matrix):\n",
    "    assert full_matrix.shape[1] == 4\n",
    "\n",
    "    sample_wavelets, _ = pywt.dwt(full_matrix.T[0], 'db6', mode='zero')\n",
    "    out = np.zeros((len(sample_wavelets), 4))\n",
    "    counter = 0\n",
    "\n",
    "    for col in full_matrix.T:\n",
    "        wavelets, _ = pywt.dwt(col, 'db6', mode=\"zero\")\n",
    "        out[:, counter] = wavelets\n",
    "        # assert len(wavelets) == 6, \"Constant found through testing; may be incorrect\"\n",
    "\n",
    "    return out"
   ]
  },
  {
   "cell_type": "code",
   "execution_count": 33,
   "metadata": {},
   "outputs": [],
   "source": [
    "NUMBER_OF_SAMPLES_FROM_INDIV = 100\n",
    "WIDTH = 600\n",
    "\n",
    "samples = np.zeros((NUMBER_OF_SAMPLES_FROM_INDIV * len(original_files), 4, WIDTH))\n",
    "labels = np.zeros((NUMBER_OF_SAMPLES_FROM_INDIV * len(original_files)))\n",
    "\n",
    "counter = 0\n",
    "\n",
    "for filename in original_files.keys():\n",
    "    raw_data, label = original_files[filename]\n",
    "    \n",
    "    eeg_data = raw_data[[1, 2, 3, 4]].to_numpy()\n",
    "    \n",
    "    for _ in range(NUMBER_OF_SAMPLES_FROM_INDIV):\n",
    "        start_time = np.random.randint(0, len(eeg_data) / 2 - WIDTH)\n",
    "\n",
    "        sampled_data = eeg_data[start_time:start_time + WIDTH]\n",
    "\n",
    "        sampled_data = normalize_data(sampled_data)\n",
    "        assert sampled_data.shape == (WIDTH, 4)\n",
    "        \n",
    "        samples[counter] = sampled_data.T\n",
    "        labels[counter] = label\n",
    "        \n",
    "        counter += 1\n",
    "\n"
   ]
  },
  {
   "cell_type": "code",
   "execution_count": 34,
   "metadata": {},
   "outputs": [],
   "source": [
    "## shuffle the dataset\n",
    "permutation = np.random.permutation(len(samples))\n",
    "samples = samples[permutation]\n",
    "labels = tf.one_hot(labels[permutation], 2)"
   ]
  },
  {
   "cell_type": "code",
   "execution_count": 35,
   "metadata": {},
   "outputs": [],
   "source": [
    "names = [\"karuna\", \"rena\"]\n",
    "statuses = [\"open\", \"closed\"]\n",
    "\n",
    "old_files = {}\n",
    "\n",
    "for name in names:\n",
    "    for status in statuses:\n",
    "        file_prefix = \"./Archive/\" + name + \"_\" + status + \"_\"\n",
    "\n",
    "        for idx in range(1, 3):\n",
    "            filename = file_prefix + str(idx)\n",
    "\n",
    "            loaded_file = pd.read_pickle(filename)\n",
    "            label = 1 if status == \"closed\" else 0\n",
    "\n",
    "            old_files[filename] = (loaded_file, label)"
   ]
  },
  {
   "cell_type": "code",
   "execution_count": 36,
   "metadata": {},
   "outputs": [],
   "source": [
    "## also sample from these files\n",
    "NUMBER_OF_VALIDATION_SAMPLES = 10\n",
    "\n",
    "val_samples = np.zeros((NUMBER_OF_VALIDATION_SAMPLES * len(old_files), 4, WIDTH))\n",
    "val_labels = np.zeros((NUMBER_OF_VALIDATION_SAMPLES * len(old_files)))\n",
    "\n",
    "counter = 0\n",
    "\n",
    "for filename in old_files.keys():\n",
    "    raw_data, label = old_files[filename]\n",
    "    \n",
    "    eeg_data = raw_data[[1, 2, 3, 4]].to_numpy()\n",
    "    \n",
    "    for _ in range(NUMBER_OF_VALIDATION_SAMPLES):\n",
    "        start_time = np.random.randint(0, len(eeg_data) - WIDTH)\n",
    "\n",
    "        sampled_data = eeg_data[start_time:start_time + WIDTH]\n",
    "\n",
    "        sampled_data = normalize_data(sampled_data)\n",
    "        assert sampled_data.shape == (WIDTH, 4)\n",
    "        \n",
    "        samples[counter] = sampled_data.T\n",
    "        val_labels[counter] = label\n",
    "        \n",
    "        counter += 1\n",
    "\n",
    "val_labels = tf.one_hot(val_labels, 2)"
   ]
  },
  {
   "cell_type": "code",
   "execution_count": 39,
   "metadata": {},
   "outputs": [
    {
     "name": "stdout",
     "output_type": "stream",
     "text": [
      "Epoch 1/2\n",
      "38/38 [==============================] - 2s 44ms/step - loss: 0.5410 - accuracy: 0.7350 - val_loss: 10.9845 - val_accuracy: 0.5000\n",
      "Epoch 2/2\n",
      "38/38 [==============================] - 2s 41ms/step - loss: 0.3032 - accuracy: 0.8667 - val_loss: 9.8026 - val_accuracy: 0.5000\n"
     ]
    }
   ],
   "source": [
    "model  = ShallowConvNet(nb_classes = 2, Chans = 4, Samples = WIDTH)\n",
    "# model  = EEGNet(nb_classes = 2, Chans = 4, Samples = 1000)\n",
    "\n",
    "model.compile(loss = 'categorical_crossentropy', optimizer = 'adam', metrics=['accuracy'])\n",
    "fittedModel = model.fit(x=samples, y=labels, validation_data=(val_samples, val_labels), epochs=2)"
   ]
  },
  {
   "cell_type": "code",
   "execution_count": 40,
   "metadata": {},
   "outputs": [],
   "source": [
    "def produce_transfer_data(filename, storage_array, NUM_SAMPLES=20):\n",
    "    data_file, label = storage_array[filename]\n",
    "    eeg_data = data_file[[1, 2, 3, 4]].to_numpy()\n",
    "\n",
    "    out = np.zeros((NUM_SAMPLES, 4, WIDTH))\n",
    "\n",
    "    for idx in range(NUM_SAMPLES):\n",
    "        start_time = np.random.randint(0, len(data_file) - WIDTH)\n",
    "        out[idx] = normalize_data(eeg_data[start_time:start_time + WIDTH]).T\n",
    "    \n",
    "    return out, np.ones(len(out)) * label\n",
    "\n",
    "trans_data_1, trans_label_1 = produce_transfer_data(\"Rena_close_1\", original_files)\n",
    "trans_data_2, trans_label_2 = produce_transfer_data(\"Rena_open_1\", original_files)\n",
    "\n",
    "trans_data = np.vstack((trans_data_1, trans_data_2))\n",
    "trans_label = np.append(trans_label_1, trans_label_2)\n",
    "\n",
    "permutation = np.random.permutation(len(trans_data))\n",
    "trans_data = trans_data[permutation]\n",
    "trans_label = tf.one_hot(trans_label[permutation], 2)"
   ]
  },
  {
   "cell_type": "code",
   "execution_count": 41,
   "metadata": {},
   "outputs": [
    {
     "name": "stdout",
     "output_type": "stream",
     "text": [
      "Epoch 1/2\n",
      "2/2 [==============================] - 0s 18ms/step - loss: 0.3120 - accuracy: 0.9000\n",
      "Epoch 2/2\n",
      "2/2 [==============================] - 0s 18ms/step - loss: 0.1911 - accuracy: 0.9500\n"
     ]
    },
    {
     "data": {
      "text/plain": [
       "<keras.callbacks.History at 0x1ad54bb20>"
      ]
     },
     "execution_count": 41,
     "metadata": {},
     "output_type": "execute_result"
    }
   ],
   "source": [
    "model.fit(x=trans_data, y=trans_label, epochs=2)"
   ]
  },
  {
   "cell_type": "code",
   "execution_count": 50,
   "metadata": {},
   "outputs": [
    {
     "name": "stdout",
     "output_type": "stream",
     "text": [
      "4/4 [==============================] - 0s 6ms/step - loss: 0.9995 - accuracy: 0.6900\n"
     ]
    },
    {
     "data": {
      "text/plain": [
       "[0.9994533658027649, 0.6899999976158142]"
      ]
     },
     "execution_count": 50,
     "metadata": {},
     "output_type": "execute_result"
    }
   ],
   "source": [
    "# val_data_1, val_label_1 = produce_transfer_data(\"./Archive/rena_closed_1\", old_files, NUM_SAMPLES=10)\n",
    "# val_data_2, val_label_2 = produce_transfer_data(\"./Archive/rena_open_1\", old_files, NUM_SAMPLES=10)\n",
    "\n",
    "# val_data = np.vstack((val_data_1, val_data_2))\n",
    "# val_label = np.append(val_label_1, val_label_2)\n",
    "\n",
    "# val_label = tf.one_hot(val_label, 2)\n",
    "\n",
    "# full_dataset = produce_full_mat()\n",
    "old_dataset = produce_old_data()\n",
    "\n",
    "test_data_1, test_label_1 = produce_transfer_data(\"./Archive/rena_closed_1\", old_dataset, NUM_SAMPLES=50)\n",
    "test_data_2, test_label_2 = produce_transfer_data(\"./Archive/rena_open_1\", old_dataset, NUM_SAMPLES=50)\n",
    "\n",
    "# test_data_1, test_label_1 = produce_transfer_data(\"Rena_close_2\", full_dataset, NUM_SAMPLES=50)\n",
    "# test_data_2, test_label_2 = produce_transfer_data(\"Rena_open_2\", full_dataset, NUM_SAMPLES=50)\n",
    "\n",
    "test_data = np.vstack((test_data_1, test_data_2))\n",
    "test_label = np.append(test_label_1, test_label_2)\n",
    "\n",
    "test_label = tf.one_hot(test_label, 2)\n",
    "\n",
    "# permutation = np.random.permutation(len(val_data))\n",
    "# val_data = val_data[permutation]\n",
    "# val_label = tf.one_hot(val_label[permutation], 2)\n",
    "\n",
    "model.evaluate(test_data, test_label)\n"
   ]
  },
  {
   "cell_type": "code",
   "execution_count": null,
   "metadata": {},
   "outputs": [],
   "source": [
    "rena_new_data = get_specialized_data(\"Rena_close_3\", 1)\n",
    " produce_transfer_data(\"Rena_close_3\", rena_new_data, NUM_SAMPLES=50)"
   ]
  },
  {
   "cell_type": "code",
   "execution_count": 59,
   "metadata": {},
   "outputs": [
    {
     "data": {
      "text/plain": [
       "<tf.Tensor: shape=(2, 2), dtype=int32, numpy=\n",
       "array([[29, 21],\n",
       "       [10, 40]], dtype=int32)>"
      ]
     },
     "execution_count": 59,
     "metadata": {},
     "output_type": "execute_result"
    }
   ],
   "source": [
    "tf.math.confusion_matrix(tf.argmax(test_label, axis=1), tf.argmax(model.predict(test_data), axis=1))"
   ]
  },
  {
   "cell_type": "code",
   "execution_count": 43,
   "metadata": {},
   "outputs": [
    {
     "data": {
      "text/plain": [
       "array([[0.21495523, 0.7850447 ],\n",
       "       [0.28473392, 0.71526605],\n",
       "       [0.14869635, 0.85130364],\n",
       "       [0.8353638 , 0.16463621],\n",
       "       [0.1074936 , 0.8925064 ],\n",
       "       [0.30652967, 0.6934703 ],\n",
       "       [0.15095805, 0.849042  ],\n",
       "       [0.48739284, 0.51260716],\n",
       "       [0.44406593, 0.5559341 ],\n",
       "       [0.30079252, 0.69920754],\n",
       "       [0.42581058, 0.5741894 ],\n",
       "       [0.44853708, 0.55146295],\n",
       "       [0.3872995 , 0.6127005 ],\n",
       "       [0.864406  , 0.13559403],\n",
       "       [0.13155892, 0.8684411 ],\n",
       "       [0.2065958 , 0.7934042 ],\n",
       "       [0.887846  , 0.11215399],\n",
       "       [0.04353999, 0.95646006],\n",
       "       [0.1587515 , 0.8412485 ],\n",
       "       [0.27047023, 0.72952974],\n",
       "       [0.1375339 , 0.86246604],\n",
       "       [0.8596214 , 0.1403786 ],\n",
       "       [0.02503595, 0.974964  ],\n",
       "       [0.4391524 , 0.56084764],\n",
       "       [0.36323416, 0.63676584],\n",
       "       [0.09977125, 0.90022874],\n",
       "       [0.3981487 , 0.6018513 ],\n",
       "       [0.12876238, 0.87123764],\n",
       "       [0.4460461 , 0.5539539 ],\n",
       "       [0.20070797, 0.799292  ],\n",
       "       [0.02087559, 0.97912437],\n",
       "       [0.5111572 , 0.4888428 ],\n",
       "       [0.7947243 , 0.20527574],\n",
       "       [0.9366205 , 0.06337956],\n",
       "       [0.07325469, 0.92674524],\n",
       "       [0.40085727, 0.5991428 ],\n",
       "       [0.5806383 , 0.41936168],\n",
       "       [0.37154302, 0.62845695],\n",
       "       [0.11287866, 0.8871214 ],\n",
       "       [0.48256928, 0.51743066],\n",
       "       [0.8514614 , 0.14853857],\n",
       "       [0.5464502 , 0.45354983],\n",
       "       [0.10337511, 0.89662486],\n",
       "       [0.03424636, 0.9657537 ],\n",
       "       [0.22665647, 0.7733436 ],\n",
       "       [0.94876844, 0.05123156],\n",
       "       [0.3951259 , 0.6048741 ],\n",
       "       [0.5270684 , 0.4729316 ],\n",
       "       [0.30079252, 0.69920754],\n",
       "       [0.8071872 , 0.19281285]], dtype=float32)"
      ]
     },
     "execution_count": 43,
     "metadata": {},
     "output_type": "execute_result"
    }
   ],
   "source": [
    "model.predict(test_data_1)"
   ]
  },
  {
   "cell_type": "code",
   "execution_count": 51,
   "metadata": {},
   "outputs": [
    {
     "name": "stderr",
     "output_type": "stream",
     "text": [
      "2022-04-03 14:15:09.572108: W tensorflow/python/util/util.cc:368] Sets are not currently considered sequences, but this may change in the future, so consider avoiding using them.\n"
     ]
    },
    {
     "name": "stdout",
     "output_type": "stream",
     "text": [
      "INFO:tensorflow:Assets written to: saved_model/my_model/assets\n"
     ]
    }
   ],
   "source": [
    "!mkdir -p saved_model\n",
    "model.save('saved_model/my_model')"
   ]
  },
  {
   "cell_type": "code",
   "execution_count": 55,
   "metadata": {},
   "outputs": [
    {
     "data": {
      "text/plain": [
       "<AxesSubplot:>"
      ]
     },
     "execution_count": 55,
     "metadata": {},
     "output_type": "execute_result"
    },
    {
     "data": {
      "image/png": "[encoded data removed]",
      "text/plain": [
       "<Figure size 432x288 with 1 Axes>"
      ]
     },
     "metadata": {
      "needs_background": "light"
     },
     "output_type": "display_data"
    }
   ],
   "source": [
    "sns.lineplot(data=test_data[1].T)"
   ]
  },
  {
   "cell_type": "code",
   "execution_count": null,
   "metadata": {},
   "outputs": [],
   "source": []
  }
 ],
 "metadata": {
  "interpreter": {
   "hash": "a66773685bcb30e8a1abe1c6876cec4329ca11f56952d963da70c67dc62248a0"
  },
  "kernelspec": {
   "display_name": "Python 3.10.4 ('neurahack')",
   "language": "python",
   "name": "python3"
  },
  "language_info": {
   "codemirror_mode": {
    "name": "ipython",
    "version": 3
   },
   "file_extension": ".py",
   "mimetype": "text/x-python",
   "name": "python",
   "nbconvert_exporter": "python",
   "pygments_lexer": "ipython3",
   "version": "3.10.4"
  },
  "orig_nbformat": 4
 },
 "nbformat": 4,
 "nbformat_minor": 2
}
