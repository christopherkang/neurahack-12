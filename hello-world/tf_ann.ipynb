{
 "cells": [
  {
   "cell_type": "code",
   "execution_count": 1,
   "metadata": {},
   "outputs": [],
   "source": [
    "import tensorflow as tf\n",
    "import tensorflowjs as tfjs\n",
    "import pandas as pd\n",
    "import numpy as np\n",
    "\n",
    "import seaborn as sns\n",
    "import datetime\n",
    "\n",
    "# from collections.abc import Mapping"
   ]
  },
  {
   "cell_type": "code",
   "execution_count": 2,
   "metadata": {},
   "outputs": [],
   "source": [
    "# Load the TensorBoard notebook extension\n",
    "%load_ext tensorboard"
   ]
  },
  {
   "cell_type": "code",
   "execution_count": 3,
   "metadata": {},
   "outputs": [],
   "source": [
    "sns.set_theme(style=\"whitegrid\")"
   ]
  },
  {
   "cell_type": "code",
   "execution_count": 4,
   "metadata": {},
   "outputs": [
    {
     "name": "stdout",
     "output_type": "stream",
     "text": [
      "TensorFlow version: 2.8.0\n"
     ]
    }
   ],
   "source": [
    "print(\"TensorFlow version:\", tf.__version__)"
   ]
  },
  {
   "cell_type": "code",
   "execution_count": 5,
   "metadata": {},
   "outputs": [
    {
     "data": {
      "text/html": [
       "<div>\n",
       "<style scoped>\n",
       "    .dataframe tbody tr th:only-of-type {\n",
       "        vertical-align: middle;\n",
       "    }\n",
       "\n",
       "    .dataframe tbody tr th {\n",
       "        vertical-align: top;\n",
       "    }\n",
       "\n",
       "    .dataframe thead th {\n",
       "        text-align: right;\n",
       "    }\n",
       "</style>\n",
       "<table border=\"1\" class=\"dataframe\">\n",
       "  <thead>\n",
       "    <tr style=\"text-align: right;\">\n",
       "      <th></th>\n",
       "      <th>0</th>\n",
       "      <th>1</th>\n",
       "      <th>2</th>\n",
       "      <th>3</th>\n",
       "      <th>4</th>\n",
       "      <th>5</th>\n",
       "      <th>6</th>\n",
       "      <th>7</th>\n",
       "      <th>8</th>\n",
       "      <th>9</th>\n",
       "      <th>10</th>\n",
       "      <th>11</th>\n",
       "      <th>12</th>\n",
       "      <th>13</th>\n",
       "      <th>14</th>\n",
       "      <th>15</th>\n",
       "    </tr>\n",
       "  </thead>\n",
       "  <tbody>\n",
       "    <tr>\n",
       "      <th>0</th>\n",
       "      <td>1711.0</td>\n",
       "      <td>-122.558594</td>\n",
       "      <td>-40.039062</td>\n",
       "      <td>13.149821</td>\n",
       "      <td>-6.269368</td>\n",
       "      <td>-0.490540</td>\n",
       "      <td>0.172791</td>\n",
       "      <td>0.870483</td>\n",
       "      <td>0.000000</td>\n",
       "      <td>0.000000</td>\n",
       "      <td>0.000000</td>\n",
       "      <td>0.0</td>\n",
       "      <td>0.0</td>\n",
       "      <td>0.0</td>\n",
       "      <td>1.648926e+09</td>\n",
       "      <td>0.0</td>\n",
       "    </tr>\n",
       "    <tr>\n",
       "      <th>1</th>\n",
       "      <td>1711.0</td>\n",
       "      <td>-65.429688</td>\n",
       "      <td>-76.171875</td>\n",
       "      <td>11.678924</td>\n",
       "      <td>-5.310047</td>\n",
       "      <td>-0.490540</td>\n",
       "      <td>0.172791</td>\n",
       "      <td>0.870483</td>\n",
       "      <td>0.000000</td>\n",
       "      <td>0.000000</td>\n",
       "      <td>0.000000</td>\n",
       "      <td>0.0</td>\n",
       "      <td>0.0</td>\n",
       "      <td>0.0</td>\n",
       "      <td>1.648926e+09</td>\n",
       "      <td>0.0</td>\n",
       "    </tr>\n",
       "    <tr>\n",
       "      <th>2</th>\n",
       "      <td>1711.0</td>\n",
       "      <td>10.742188</td>\n",
       "      <td>-40.039062</td>\n",
       "      <td>6.917573</td>\n",
       "      <td>-4.593633</td>\n",
       "      <td>-0.490540</td>\n",
       "      <td>0.172791</td>\n",
       "      <td>0.870483</td>\n",
       "      <td>0.000000</td>\n",
       "      <td>0.000000</td>\n",
       "      <td>0.000000</td>\n",
       "      <td>0.0</td>\n",
       "      <td>0.0</td>\n",
       "      <td>0.0</td>\n",
       "      <td>1.648926e+09</td>\n",
       "      <td>0.0</td>\n",
       "    </tr>\n",
       "    <tr>\n",
       "      <th>3</th>\n",
       "      <td>1711.0</td>\n",
       "      <td>79.101562</td>\n",
       "      <td>445.312500</td>\n",
       "      <td>-0.179759</td>\n",
       "      <td>-4.120129</td>\n",
       "      <td>-0.490540</td>\n",
       "      <td>0.172791</td>\n",
       "      <td>0.870483</td>\n",
       "      <td>0.000000</td>\n",
       "      <td>0.000000</td>\n",
       "      <td>0.000000</td>\n",
       "      <td>0.0</td>\n",
       "      <td>0.0</td>\n",
       "      <td>0.0</td>\n",
       "      <td>1.648926e+09</td>\n",
       "      <td>0.0</td>\n",
       "    </tr>\n",
       "    <tr>\n",
       "      <th>4</th>\n",
       "      <td>1711.0</td>\n",
       "      <td>43.294271</td>\n",
       "      <td>445.312500</td>\n",
       "      <td>-7.339966</td>\n",
       "      <td>-3.889533</td>\n",
       "      <td>-0.482422</td>\n",
       "      <td>0.151733</td>\n",
       "      <td>0.876587</td>\n",
       "      <td>-113.291304</td>\n",
       "      <td>2.796024</td>\n",
       "      <td>79.529688</td>\n",
       "      <td>0.0</td>\n",
       "      <td>0.0</td>\n",
       "      <td>0.0</td>\n",
       "      <td>1.648926e+09</td>\n",
       "      <td>0.0</td>\n",
       "    </tr>\n",
       "    <tr>\n",
       "      <th>...</th>\n",
       "      <td>...</td>\n",
       "      <td>...</td>\n",
       "      <td>...</td>\n",
       "      <td>...</td>\n",
       "      <td>...</td>\n",
       "      <td>...</td>\n",
       "      <td>...</td>\n",
       "      <td>...</td>\n",
       "      <td>...</td>\n",
       "      <td>...</td>\n",
       "      <td>...</td>\n",
       "      <td>...</td>\n",
       "      <td>...</td>\n",
       "      <td>...</td>\n",
       "      <td>...</td>\n",
       "      <td>...</td>\n",
       "    </tr>\n",
       "    <tr>\n",
       "      <th>2503</th>\n",
       "      <td>1919.0</td>\n",
       "      <td>-23.274740</td>\n",
       "      <td>-662.597656</td>\n",
       "      <td>-155.355312</td>\n",
       "      <td>-15.967381</td>\n",
       "      <td>-0.472656</td>\n",
       "      <td>0.125977</td>\n",
       "      <td>0.886353</td>\n",
       "      <td>-4.470648</td>\n",
       "      <td>2.414748</td>\n",
       "      <td>2.384844</td>\n",
       "      <td>0.0</td>\n",
       "      <td>0.0</td>\n",
       "      <td>0.0</td>\n",
       "      <td>1.648926e+09</td>\n",
       "      <td>0.0</td>\n",
       "    </tr>\n",
       "    <tr>\n",
       "      <th>2504</th>\n",
       "      <td>1919.0</td>\n",
       "      <td>44.270833</td>\n",
       "      <td>-57.617188</td>\n",
       "      <td>-162.302074</td>\n",
       "      <td>-18.537983</td>\n",
       "      <td>-0.474121</td>\n",
       "      <td>0.129944</td>\n",
       "      <td>0.889099</td>\n",
       "      <td>-4.522980</td>\n",
       "      <td>2.519412</td>\n",
       "      <td>2.354940</td>\n",
       "      <td>0.0</td>\n",
       "      <td>0.0</td>\n",
       "      <td>0.0</td>\n",
       "      <td>1.648926e+09</td>\n",
       "      <td>0.0</td>\n",
       "    </tr>\n",
       "    <tr>\n",
       "      <th>2505</th>\n",
       "      <td>1919.0</td>\n",
       "      <td>20.996094</td>\n",
       "      <td>-57.617188</td>\n",
       "      <td>-164.567632</td>\n",
       "      <td>-22.244300</td>\n",
       "      <td>-0.474121</td>\n",
       "      <td>0.129944</td>\n",
       "      <td>0.889099</td>\n",
       "      <td>-4.522980</td>\n",
       "      <td>2.519412</td>\n",
       "      <td>2.354940</td>\n",
       "      <td>0.0</td>\n",
       "      <td>0.0</td>\n",
       "      <td>0.0</td>\n",
       "      <td>1.648926e+09</td>\n",
       "      <td>0.0</td>\n",
       "    </tr>\n",
       "    <tr>\n",
       "      <th>2506</th>\n",
       "      <td>1919.0</td>\n",
       "      <td>-54.361979</td>\n",
       "      <td>-638.183594</td>\n",
       "      <td>-163.356404</td>\n",
       "      <td>-24.698532</td>\n",
       "      <td>-0.474121</td>\n",
       "      <td>0.129944</td>\n",
       "      <td>0.889099</td>\n",
       "      <td>-4.522980</td>\n",
       "      <td>2.519412</td>\n",
       "      <td>2.354940</td>\n",
       "      <td>0.0</td>\n",
       "      <td>0.0</td>\n",
       "      <td>0.0</td>\n",
       "      <td>1.648926e+09</td>\n",
       "      <td>0.0</td>\n",
       "    </tr>\n",
       "    <tr>\n",
       "      <th>2507</th>\n",
       "      <td>1919.0</td>\n",
       "      <td>-48.014323</td>\n",
       "      <td>-638.183594</td>\n",
       "      <td>-161.309268</td>\n",
       "      <td>-25.900678</td>\n",
       "      <td>-0.474121</td>\n",
       "      <td>0.129944</td>\n",
       "      <td>0.889099</td>\n",
       "      <td>-4.522980</td>\n",
       "      <td>2.519412</td>\n",
       "      <td>2.354940</td>\n",
       "      <td>0.0</td>\n",
       "      <td>0.0</td>\n",
       "      <td>0.0</td>\n",
       "      <td>1.648926e+09</td>\n",
       "      <td>0.0</td>\n",
       "    </tr>\n",
       "  </tbody>\n",
       "</table>\n",
       "<p>2508 rows × 16 columns</p>\n",
       "</div>"
      ],
      "text/plain": [
       "          0           1           2           3          4         5   \\\n",
       "0     1711.0 -122.558594  -40.039062   13.149821  -6.269368 -0.490540   \n",
       "1     1711.0  -65.429688  -76.171875   11.678924  -5.310047 -0.490540   \n",
       "2     1711.0   10.742188  -40.039062    6.917573  -4.593633 -0.490540   \n",
       "3     1711.0   79.101562  445.312500   -0.179759  -4.120129 -0.490540   \n",
       "4     1711.0   43.294271  445.312500   -7.339966  -3.889533 -0.482422   \n",
       "...      ...         ...         ...         ...        ...       ...   \n",
       "2503  1919.0  -23.274740 -662.597656 -155.355312 -15.967381 -0.472656   \n",
       "2504  1919.0   44.270833  -57.617188 -162.302074 -18.537983 -0.474121   \n",
       "2505  1919.0   20.996094  -57.617188 -164.567632 -22.244300 -0.474121   \n",
       "2506  1919.0  -54.361979 -638.183594 -163.356404 -24.698532 -0.474121   \n",
       "2507  1919.0  -48.014323 -638.183594 -161.309268 -25.900678 -0.474121   \n",
       "\n",
       "            6         7           8         9          10   11   12   13  \\\n",
       "0     0.172791  0.870483    0.000000  0.000000   0.000000  0.0  0.0  0.0   \n",
       "1     0.172791  0.870483    0.000000  0.000000   0.000000  0.0  0.0  0.0   \n",
       "2     0.172791  0.870483    0.000000  0.000000   0.000000  0.0  0.0  0.0   \n",
       "3     0.172791  0.870483    0.000000  0.000000   0.000000  0.0  0.0  0.0   \n",
       "4     0.151733  0.876587 -113.291304  2.796024  79.529688  0.0  0.0  0.0   \n",
       "...        ...       ...         ...       ...        ...  ...  ...  ...   \n",
       "2503  0.125977  0.886353   -4.470648  2.414748   2.384844  0.0  0.0  0.0   \n",
       "2504  0.129944  0.889099   -4.522980  2.519412   2.354940  0.0  0.0  0.0   \n",
       "2505  0.129944  0.889099   -4.522980  2.519412   2.354940  0.0  0.0  0.0   \n",
       "2506  0.129944  0.889099   -4.522980  2.519412   2.354940  0.0  0.0  0.0   \n",
       "2507  0.129944  0.889099   -4.522980  2.519412   2.354940  0.0  0.0  0.0   \n",
       "\n",
       "                14   15  \n",
       "0     1.648926e+09  0.0  \n",
       "1     1.648926e+09  0.0  \n",
       "2     1.648926e+09  0.0  \n",
       "3     1.648926e+09  0.0  \n",
       "4     1.648926e+09  0.0  \n",
       "...            ...  ...  \n",
       "2503  1.648926e+09  0.0  \n",
       "2504  1.648926e+09  0.0  \n",
       "2505  1.648926e+09  0.0  \n",
       "2506  1.648926e+09  0.0  \n",
       "2507  1.648926e+09  0.0  \n",
       "\n",
       "[2508 rows x 16 columns]"
      ]
     },
     "execution_count": 5,
     "metadata": {},
     "output_type": "execute_result"
    }
   ],
   "source": [
    "pd.read_pickle(\"rena_closed_2\")"
   ]
  },
  {
   "cell_type": "code",
   "execution_count": 6,
   "metadata": {},
   "outputs": [],
   "source": [
    "## Compile and prepare the dataset\n",
    "people_names = [\"jack\", \"karuna\", \"rena\"]\n",
    "eye_status = [\"open\", \"closed\"]\n",
    "\n",
    "\n",
    "full_dataset = []\n",
    "labels = []\n",
    "\n",
    "for people in people_names:\n",
    "    for status in eye_status:\n",
    "        file_prefix = people + \"_\" + status + \"_\"\n",
    "        for idx in range(1, 3):\n",
    "            file_name = file_prefix + str(idx)\n",
    "            df = pd.read_pickle(file_name)\n",
    "\n",
    "            features = df[[1, 2, 3, 4]].to_numpy()\n",
    "            full_dataset.append(features)\n",
    "            # assert features.shape == (2532, 4), f\"{features.shape} is not correct from {file_name}\"\n",
    "            labels.append(1 if status == \"closed\" else 0)\n"
   ]
  },
  {
   "cell_type": "code",
   "execution_count": 7,
   "metadata": {},
   "outputs": [
    {
     "data": {
      "text/plain": [
       "<AxesSubplot:>"
      ]
     },
     "execution_count": 7,
     "metadata": {},
     "output_type": "execute_result"
    },
    {
     "data": {
      "image/png": "[encoded data removed]",
      "text/plain": [
       "<Figure size 432x288 with 1 Axes>"
      ]
     },
     "metadata": {},
     "output_type": "display_data"
    }
   ],
   "source": [
    "sns.lineplot(data=pd.DataFrame(full_dataset[3]))"
   ]
  },
  {
   "cell_type": "code",
   "execution_count": 8,
   "metadata": {},
   "outputs": [],
   "source": [
    "## construct dataset for tf\n",
    "WIDTH = 600\n",
    "NUM_INPUTS = 4 * WIDTH\n",
    "NUM_SAMPLES_FROM_INDIV = 30\n",
    "\n",
    "sampled_dataset = np.zeros((NUM_SAMPLES_FROM_INDIV * len(people_names) * 2 * 2, WIDTH, 4))\n",
    "sampled_labels = np.zeros((NUM_SAMPLES_FROM_INDIV * len(people_names) * 2 * 2))\n",
    "counter = 0\n",
    "\n",
    "for idx_data in range(len(full_dataset)):\n",
    "    dataset_to_sample = full_dataset[idx_data]\n",
    "    label = labels[idx_data]\n",
    "\n",
    "    for idx in range(NUM_SAMPLES_FROM_INDIV):\n",
    "        start_time = np.random.randint(0, len(dataset_to_sample) - WIDTH)\n",
    "        feature_to_add = dataset_to_sample[start_time:start_time+WIDTH]\n",
    "\n",
    "        sampled_dataset[counter] = feature_to_add\n",
    "        sampled_labels[counter] = label\n",
    "        counter += 1\n"
   ]
  },
  {
   "cell_type": "code",
   "execution_count": 9,
   "metadata": {},
   "outputs": [
    {
     "name": "stdout",
     "output_type": "stream",
     "text": [
      "Model: \"sequential\"\n",
      "_________________________________________________________________\n",
      " Layer (type)                Output Shape              Param #   \n",
      "=================================================================\n",
      " conv1d (Conv1D)             (None, 351, 100)          100100    \n"
     ]
    },
    {
     "name": "stderr",
     "output_type": "stream",
     "text": [
      "2022-04-02 18:42:01.784481: I tensorflow/core/platform/cpu_feature_guard.cc:151] This TensorFlow binary is optimized with oneAPI Deep Neural Network Library (oneDNN) to use the following CPU instructions in performance-critical operations:  AVX2 FMA\n",
      "To enable them in other operations, rebuild TensorFlow with the appropriate compiler flags.\n"
     ]
    },
    {
     "name": "stdout",
     "output_type": "stream",
     "text": [
      "                                                                 \n",
      " max_pooling1d (MaxPooling1D  (None, 175, 100)         0         \n",
      " )                                                               \n",
      "                                                                 \n",
      " conv1d_1 (Conv1D)           (None, 146, 80)           240080    \n",
      "                                                                 \n",
      " max_pooling1d_1 (MaxPooling  (None, 73, 80)           0         \n",
      " 1D)                                                             \n",
      "                                                                 \n",
      " conv1d_2 (Conv1D)           (None, 64, 60)            48060     \n",
      "                                                                 \n",
      " flatten (Flatten)           (None, 3840)              0         \n",
      "                                                                 \n",
      " dense (Dense)               (None, 500)               1920500   \n",
      "                                                                 \n",
      " dense_1 (Dense)             (None, 2)                 1002      \n",
      "                                                                 \n",
      "=================================================================\n",
      "Total params: 2,309,742\n",
      "Trainable params: 2,309,742\n",
      "Non-trainable params: 0\n",
      "_________________________________________________________________\n"
     ]
    }
   ],
   "source": [
    "## Prepare model\n",
    "## assume the input comes as (4, WIDTH) matrix\n",
    "\n",
    "# model = tf.keras.models.Sequential([\n",
    "#     tf.keras.layers.Flatten(input_shape = (4, WIDTH)),\n",
    "#     tf.keras.layers.Dense(NUM_INPUTS),\n",
    "#     tf.keras.layers.Dense(2 * NUM_INPUTS),\n",
    "#     tf.keras.layers.Dense(NUM_INPUTS),\n",
    "#     tf.keras.layers.Dropout(0.2),\n",
    "#     tf.keras.layers.Dense(100),\n",
    "#     tf.keras.layers.Dense(2)\n",
    "# ])\n",
    "\n",
    "model = tf.keras.models.Sequential([\n",
    "    tf.keras.layers.Conv1D(100, 250, input_shape=(WIDTH, 4), activation='sigmoid'),\n",
    "    tf.keras.layers.MaxPool1D(),\n",
    "    tf.keras.layers.Conv1D(80, 30, activation=\"relu\"),\n",
    "    tf.keras.layers.MaxPool1D(),\n",
    "    tf.keras.layers.Conv1D(60, 10, activation=\"relu\"),\n",
    "    tf.keras.layers.Flatten(),\n",
    "    tf.keras.layers.Dense(500),\n",
    "    tf.keras.layers.Dense(2)\n",
    "])\n",
    "\n",
    "model.summary()\n",
    "\n",
    "loss_fn = tf.keras.losses.SparseCategoricalCrossentropy(from_logits=True)\n",
    "model.compile(optimizer='adam', loss=loss_fn, metrics=['accuracy'])"
   ]
  },
  {
   "cell_type": "code",
   "execution_count": 10,
   "metadata": {},
   "outputs": [],
   "source": [
    "## Perform inference\n",
    "## perform some validation\n",
    "\n",
    "TRIALS = 5\n",
    "\n",
    "validation_dataset = np.zeros((len(full_dataset) * TRIALS, WIDTH, 4))\n",
    "validation_labels = np.zeros((len(full_dataset) * TRIALS))\n",
    "counter = 0\n",
    "\n",
    "## for each file\n",
    "for idx_data in range(len(full_dataset)):\n",
    "    dataset_to_sample = full_dataset[idx_data]\n",
    "    label = labels[idx_data]\n",
    "    for _ in range(TRIALS):\n",
    "\n",
    "        ## choose a random position\n",
    "        start_time = np.random.randint(0, len(dataset_to_sample) - WIDTH)\n",
    "\n",
    "        ## get 300 points\n",
    "        feature = dataset_to_sample[start_time:start_time+WIDTH]\n",
    "        validation_dataset[counter] = feature\n",
    "        validation_labels[counter] = label\n",
    "\n",
    "        counter += 1\n"
   ]
  },
  {
   "cell_type": "code",
   "execution_count": 11,
   "metadata": {},
   "outputs": [
    {
     "name": "stdout",
     "output_type": "stream",
     "text": [
      "Epoch 1/6\n",
      "36/36 [==============================] - 8s 187ms/step - loss: 2.2403 - accuracy: 0.5389 - val_loss: 0.6791 - val_accuracy: 0.6333\n",
      "Epoch 2/6\n",
      "36/36 [==============================] - 6s 164ms/step - loss: 0.4834 - accuracy: 0.7639 - val_loss: 0.9746 - val_accuracy: 0.6333\n",
      "Epoch 3/6\n",
      "36/36 [==============================] - 6s 155ms/step - loss: 0.4487 - accuracy: 0.7750 - val_loss: 0.4033 - val_accuracy: 0.7833\n",
      "Epoch 4/6\n",
      "36/36 [==============================] - 6s 157ms/step - loss: 0.6709 - accuracy: 0.7972 - val_loss: 1.5564 - val_accuracy: 0.4333\n",
      "Epoch 5/6\n",
      "36/36 [==============================] - 6s 168ms/step - loss: 0.6179 - accuracy: 0.7167 - val_loss: 0.5457 - val_accuracy: 0.7333\n",
      "Epoch 6/6\n",
      "36/36 [==============================] - 6s 160ms/step - loss: 0.6423 - accuracy: 0.7833 - val_loss: 0.5723 - val_accuracy: 0.6833\n"
     ]
    },
    {
     "data": {
      "text/plain": [
       "<keras.callbacks.History at 0x7f90a4fce380>"
      ]
     },
     "execution_count": 11,
     "metadata": {},
     "output_type": "execute_result"
    }
   ],
   "source": [
    "## Train model\n",
    "log_dir = \"logs/fit/\" + datetime.datetime.now().strftime(\"%Y%m%d-%H%M%S\")\n",
    "tensorboard_callback = tf.keras.callbacks.TensorBoard(log_dir=log_dir, histogram_freq=1)\n",
    "\n",
    "\n",
    "model.fit(x=sampled_dataset, y=sampled_labels, batch_size=10, epochs=6, \n",
    "          validation_data=(validation_dataset, validation_labels), \n",
    "          callbacks=[tensorboard_callback])\n"
   ]
  },
  {
   "cell_type": "code",
   "execution_count": 12,
   "metadata": {},
   "outputs": [
    {
     "data": {
      "text/plain": [
       "360"
      ]
     },
     "execution_count": 12,
     "metadata": {},
     "output_type": "execute_result"
    }
   ],
   "source": [
    "len(sampled_dataset)"
   ]
  },
  {
   "cell_type": "code",
   "execution_count": 13,
   "metadata": {},
   "outputs": [
    {
     "data": {
      "text/plain": [
       "Reusing TensorBoard on port 6006 (pid 50178), started 2:30:16 ago. (Use '!kill 50178' to kill it.)"
      ]
     },
     "metadata": {},
     "output_type": "display_data"
    },
    {
     "data": {
      "text/html": [
       "\n",
       "      <iframe id=\"tensorboard-frame-541bb1e1996cb7c7\" width=\"100%\" height=\"800\" frameborder=\"0\">\n",
       "      </iframe>\n",
       "      <script>\n",
       "        (function() {\n",
       "          const frame = document.getElementById(\"tensorboard-frame-541bb1e1996cb7c7\");\n",
       "          const url = new URL(\"http://localhost\");\n",
       "          const port = 6006;\n",
       "          if (port) {\n",
       "            url.port = port;\n",
       "          }\n",
       "          frame.src = url;\n",
       "        })();\n",
       "      </script>\n",
       "    "
      ],
      "text/plain": [
       "<IPython.core.display.HTML object>"
      ]
     },
     "metadata": {},
     "output_type": "display_data"
    }
   ],
   "source": [
    "%tensorboard --logdir logs/fit"
   ]
  },
  {
   "cell_type": "code",
   "execution_count": 14,
   "metadata": {},
   "outputs": [
    {
     "name": "stdout",
     "output_type": "stream",
     "text": [
      "2/2 [==============================] - 0s 139ms/step - loss: 0.5723 - accuracy: 0.6833\n"
     ]
    },
    {
     "data": {
      "text/plain": [
       "[0.572323739528656, 0.6833333373069763]"
      ]
     },
     "execution_count": 14,
     "metadata": {},
     "output_type": "execute_result"
    }
   ],
   "source": [
    "\n",
    "## check the model's performance\n",
    "model.evaluate(validation_dataset, validation_labels)"
   ]
  },
  {
   "cell_type": "code",
   "execution_count": 15,
   "metadata": {},
   "outputs": [
    {
     "data": {
      "text/plain": [
       "array([[ 9.28090811e-02, -1.99805424e-02],\n",
       "       [ 6.19018637e-02, -6.36784956e-02],\n",
       "       [ 6.19018637e-02, -6.36784956e-02],\n",
       "       [ 6.19018637e-02, -6.36784956e-02],\n",
       "       [ 2.75627859e-02, -6.99232221e-02],\n",
       "       [ 3.65506895e-02, -7.57724941e-02],\n",
       "       [ 4.53415774e-02, -8.08392614e-02],\n",
       "       [ 6.19018637e-02, -6.36784956e-02],\n",
       "       [ 6.57732412e-02, -6.81801587e-02],\n",
       "       [ 6.19018637e-02, -6.36784956e-02],\n",
       "       [ 5.84293492e-02, -5.46653308e-02],\n",
       "       [ 6.19018637e-02, -6.36784956e-02],\n",
       "       [ 6.84991851e-02, -5.97176105e-02],\n",
       "       [ 6.19018637e-02, -6.36784956e-02],\n",
       "       [ 6.19018637e-02, -6.36784956e-02],\n",
       "       [-6.01326764e-01,  1.43736088e+00],\n",
       "       [-7.47202039e-01,  1.04306877e+00],\n",
       "       [-1.98162448e+00,  3.13624620e+00],\n",
       "       [-3.27832162e-01,  5.56925416e-01],\n",
       "       [-2.10691023e+00,  3.90054703e+00],\n",
       "       [-2.05464020e-01,  3.75161737e-01],\n",
       "       [-1.60262614e-01,  3.06262016e-01],\n",
       "       [-1.17233425e-01,  2.33882651e-01],\n",
       "       [-4.46780324e-01,  7.00619280e-01],\n",
       "       [-7.72627294e-02,  1.83863923e-01],\n",
       "       [ 4.24507633e-02, -3.03395111e-02],\n",
       "       [ 1.22515596e-02, -1.02123525e-03],\n",
       "       [ 4.10765968e-02, -2.10081264e-02],\n",
       "       [ 4.18262891e-02, -1.06779570e-02],\n",
       "       [ 5.95468991e-02, -5.76649569e-02],\n",
       "       [-5.35411656e-01,  1.02420115e+00],\n",
       "       [-1.31742567e-01,  2.81943142e-01],\n",
       "       [-8.15671861e-01,  1.44522440e+00],\n",
       "       [-7.78263748e-01,  1.42846620e+00],\n",
       "       [-3.08576345e-01,  4.52819347e-01],\n",
       "       [-1.18556023e+00,  2.07670236e+00],\n",
       "       [-1.01418757e+00,  1.76604342e+00],\n",
       "       [-1.07126880e+00,  1.76951742e+00],\n",
       "       [-1.04791594e+00,  1.83433950e+00],\n",
       "       [-1.21362090e+00,  2.11046600e+00],\n",
       "       [-5.81421435e-01,  1.04644537e+00],\n",
       "       [-1.50126010e-01,  2.07235619e-01],\n",
       "       [-2.62877941e-01,  4.59001511e-01],\n",
       "       [-5.64578781e-03,  4.66904305e-02],\n",
       "       [-3.85775231e-02,  1.57118395e-01],\n",
       "       [ 2.75848601e-02, -1.19206429e-01],\n",
       "       [-4.34561551e-01,  1.05913413e+00],\n",
       "       [-3.12049747e-01,  3.43176186e-01],\n",
       "       [-8.81375670e-01,  1.31132460e+00],\n",
       "       [-6.45958543e-01,  6.20539963e-01],\n",
       "       [-2.94015557e-01,  3.02487880e-01],\n",
       "       [-5.87611496e-01,  1.75550842e+00],\n",
       "       [-8.35489094e-01,  8.18643868e-01],\n",
       "       [-1.26833856e+00,  1.41294241e+00],\n",
       "       [-1.51781964e+00,  1.80032301e+00],\n",
       "       [-2.07072783e+00,  3.76051855e+00],\n",
       "       [-1.52382016e+00,  2.98969936e+00],\n",
       "       [-3.93978298e-01,  8.66879761e-01],\n",
       "       [-1.39840651e+00,  2.84172773e+00],\n",
       "       [-2.16663074e+00,  3.37571001e+00]], dtype=float32)"
      ]
     },
     "execution_count": 15,
     "metadata": {},
     "output_type": "execute_result"
    }
   ],
   "source": [
    "model.predict(validation_dataset)"
   ]
  },
  {
   "cell_type": "code",
   "execution_count": 16,
   "metadata": {},
   "outputs": [
    {
     "data": {
      "text/plain": [
       "<tf.Tensor: shape=(60, 2), dtype=float32, numpy=\n",
       "array([[0.52816755, 0.47183242],\n",
       "       [0.5313539 , 0.4686461 ],\n",
       "       [0.5313539 , 0.4686461 ],\n",
       "       [0.5313539 , 0.4686461 ],\n",
       "       [0.52435225, 0.4756478 ],\n",
       "       [0.5280513 , 0.4719487 ],\n",
       "       [0.53150344, 0.4684966 ],\n",
       "       [0.5313539 , 0.4686461 ],\n",
       "       [0.5334384 , 0.46656165],\n",
       "       [0.5313539 , 0.4686461 ],\n",
       "       [0.52824354, 0.4717564 ],\n",
       "       [0.5313539 , 0.4686461 ],\n",
       "       [0.5320104 , 0.46798965],\n",
       "       [0.5313539 , 0.4686461 ],\n",
       "       [0.5313539 , 0.4686461 ],\n",
       "       [0.11520043, 0.8847996 ],\n",
       "       [0.14303952, 0.8569605 ],\n",
       "       [0.00595311, 0.9940469 ],\n",
       "       [0.29219285, 0.7078071 ],\n",
       "       [0.0024543 , 0.99754566],\n",
       "       [0.3587886 , 0.6412114 ],\n",
       "       [0.38543916, 0.61456084],\n",
       "       [0.4131118 , 0.5868882 ],\n",
       "       [0.24096434, 0.7590356 ],\n",
       "       [0.43508676, 0.5649132 ],\n",
       "       [0.51818955, 0.48181048],\n",
       "       [0.5033182 , 0.49668187],\n",
       "       [0.5155162 , 0.4844838 ],\n",
       "       [0.51312304, 0.48687693],\n",
       "       [0.52926946, 0.4707305 ],\n",
       "       [0.17370221, 0.82629776],\n",
       "       [0.3980287 , 0.6019713 ],\n",
       "       [0.09441372, 0.9055863 ],\n",
       "       [0.09914777, 0.9008522 ],\n",
       "       [0.3183433 , 0.68165666],\n",
       "       [0.03688874, 0.9631113 ],\n",
       "       [0.05840185, 0.9415981 ],\n",
       "       [0.05515955, 0.94484043],\n",
       "       [0.05303774, 0.94696224],\n",
       "       [0.03475405, 0.96524596],\n",
       "       [0.1641228 , 0.83587724],\n",
       "       [0.4115984 , 0.5884016 ],\n",
       "       [0.32697922, 0.6730207 ],\n",
       "       [0.48691893, 0.5130811 ],\n",
       "       [0.45123154, 0.5487684 ],\n",
       "       [0.53663206, 0.46336794],\n",
       "       [0.18336767, 0.81663233],\n",
       "       [0.34181282, 0.65818715],\n",
       "       [0.10040791, 0.8995921 ],\n",
       "       [0.21985722, 0.7801427 ],\n",
       "       [0.35514405, 0.644856  ],\n",
       "       [0.08761419, 0.91238576],\n",
       "       [0.16055113, 0.8394488 ],\n",
       "       [0.064087  , 0.935913  ],\n",
       "       [0.03495401, 0.965046  ],\n",
       "       [0.00292583, 0.9970741 ],\n",
       "       [0.01084101, 0.9891589 ],\n",
       "       [0.2208262 , 0.77917373],\n",
       "       [0.01420108, 0.98579895],\n",
       "       [0.00390206, 0.9960979 ]], dtype=float32)>"
      ]
     },
     "execution_count": 16,
     "metadata": {},
     "output_type": "execute_result"
    }
   ],
   "source": [
    "tf.nn.softmax(model.predict(validation_dataset))"
   ]
  },
  {
   "cell_type": "code",
   "execution_count": 17,
   "metadata": {},
   "outputs": [
    {
     "data": {
      "text/plain": [
       "<tf.Tensor: shape=(2, 2), dtype=int32, numpy=\n",
       "array([[16, 14],\n",
       "       [ 5, 25]], dtype=int32)>"
      ]
     },
     "execution_count": 17,
     "metadata": {},
     "output_type": "execute_result"
    }
   ],
   "source": [
    "tf.math.confusion_matrix(validation_labels,tf.math.argmax(tf.nn.softmax(model.predict(validation_dataset)), axis=1), num_classes=2)"
   ]
  },
  {
   "cell_type": "code",
   "execution_count": null,
   "metadata": {},
   "outputs": [],
   "source": []
  }
 ],
 "metadata": {
  "interpreter": {
   "hash": "c2db7864e2cd5e5bfa376865b7136059496499eb58da03d4c195b4318ec53412"
  },
  "kernelspec": {
   "display_name": "Python 3.10.4 ('nhack')",
   "language": "python",
   "name": "python3"
  },
  "language_info": {
   "codemirror_mode": {
    "name": "ipython",
    "version": 3
   },
   "file_extension": ".py",
   "mimetype": "text/x-python",
   "name": "python",
   "nbconvert_exporter": "python",
   "pygments_lexer": "ipython3",
   "version": "3.10.4"
  },
  "orig_nbformat": 4
 },
 "nbformat": 4,
 "nbformat_minor": 2
}
