{
 "cells": [
  {
   "cell_type": "code",
   "execution_count": 16,
   "metadata": {},
   "outputs": [],
   "source": [
    "import numpy as np\n",
    "import seaborn as sns\n",
    "import pandas as pd"
   ]
  },
  {
   "cell_type": "code",
   "execution_count": 17,
   "metadata": {},
   "outputs": [],
   "source": [
    "sns.set_theme(style=\"darkgrid\")"
   ]
  },
  {
   "cell_type": "code",
   "execution_count": 18,
   "metadata": {},
   "outputs": [],
   "source": [
    "mat = np.loadtxt(\"data-1\")"
   ]
  },
  {
   "cell_type": "code",
   "execution_count": 19,
   "metadata": {},
   "outputs": [
    {
     "data": {
      "text/plain": [
       "(16, 2532)"
      ]
     },
     "execution_count": 19,
     "metadata": {},
     "output_type": "execute_result"
    }
   ],
   "source": [
    "mat.shape"
   ]
  },
  {
   "cell_type": "code",
   "execution_count": 20,
   "metadata": {},
   "outputs": [
    {
     "data": {
      "text/plain": [
       "(2532,)"
      ]
     },
     "execution_count": 20,
     "metadata": {},
     "output_type": "execute_result"
    }
   ],
   "source": [
    "mat[0].shape"
   ]
  },
  {
   "cell_type": "code",
   "execution_count": 21,
   "metadata": {},
   "outputs": [
    {
     "data": {
      "text/plain": [
       "array([427., 427., 427., ..., 637., 637., 637.])"
      ]
     },
     "execution_count": 21,
     "metadata": {},
     "output_type": "execute_result"
    }
   ],
   "source": [
    "mat[0]"
   ]
  },
  {
   "cell_type": "code",
   "execution_count": 22,
   "metadata": {},
   "outputs": [
    {
     "data": {
      "text/plain": [
       "427.0"
      ]
     },
     "execution_count": 22,
     "metadata": {},
     "output_type": "execute_result"
    }
   ],
   "source": [
    "mat[0][2]"
   ]
  },
  {
   "cell_type": "code",
   "execution_count": 23,
   "metadata": {},
   "outputs": [
    {
     "data": {
      "text/html": [
       "<div>\n",
       "<style scoped>\n",
       "    .dataframe tbody tr th:only-of-type {\n",
       "        vertical-align: middle;\n",
       "    }\n",
       "\n",
       "    .dataframe tbody tr th {\n",
       "        vertical-align: top;\n",
       "    }\n",
       "\n",
       "    .dataframe thead th {\n",
       "        text-align: right;\n",
       "    }\n",
       "</style>\n",
       "<table border=\"1\" class=\"dataframe\">\n",
       "  <thead>\n",
       "    <tr style=\"text-align: right;\">\n",
       "      <th></th>\n",
       "      <th>0</th>\n",
       "      <th>1</th>\n",
       "      <th>2</th>\n",
       "      <th>3</th>\n",
       "      <th>4</th>\n",
       "      <th>5</th>\n",
       "      <th>6</th>\n",
       "      <th>7</th>\n",
       "      <th>8</th>\n",
       "      <th>9</th>\n",
       "      <th>10</th>\n",
       "      <th>11</th>\n",
       "      <th>12</th>\n",
       "      <th>13</th>\n",
       "      <th>14</th>\n",
       "      <th>15</th>\n",
       "      <th>idx</th>\n",
       "    </tr>\n",
       "  </thead>\n",
       "  <tbody>\n",
       "    <tr>\n",
       "      <th>0</th>\n",
       "      <td>427.0</td>\n",
       "      <td>270.996094</td>\n",
       "      <td>-1000.000000</td>\n",
       "      <td>-1000.000000</td>\n",
       "      <td>58.105469</td>\n",
       "      <td>0.145203</td>\n",
       "      <td>-0.006836</td>\n",
       "      <td>0.991333</td>\n",
       "      <td>0.000000</td>\n",
       "      <td>0.000000</td>\n",
       "      <td>0.000000</td>\n",
       "      <td>0.0</td>\n",
       "      <td>0.0</td>\n",
       "      <td>0.0</td>\n",
       "      <td>1.648919e+09</td>\n",
       "      <td>0.0</td>\n",
       "      <td>0</td>\n",
       "    </tr>\n",
       "    <tr>\n",
       "      <th>1</th>\n",
       "      <td>427.0</td>\n",
       "      <td>-1000.000000</td>\n",
       "      <td>-160.644531</td>\n",
       "      <td>-153.808594</td>\n",
       "      <td>-1000.000000</td>\n",
       "      <td>0.145203</td>\n",
       "      <td>-0.006836</td>\n",
       "      <td>0.991333</td>\n",
       "      <td>0.000000</td>\n",
       "      <td>0.000000</td>\n",
       "      <td>0.000000</td>\n",
       "      <td>0.0</td>\n",
       "      <td>0.0</td>\n",
       "      <td>0.0</td>\n",
       "      <td>1.648919e+09</td>\n",
       "      <td>0.0</td>\n",
       "      <td>1</td>\n",
       "    </tr>\n",
       "    <tr>\n",
       "      <th>2</th>\n",
       "      <td>427.0</td>\n",
       "      <td>-358.886719</td>\n",
       "      <td>-978.515625</td>\n",
       "      <td>994.140625</td>\n",
       "      <td>-285.156250</td>\n",
       "      <td>0.145203</td>\n",
       "      <td>-0.006836</td>\n",
       "      <td>0.991333</td>\n",
       "      <td>0.000000</td>\n",
       "      <td>0.000000</td>\n",
       "      <td>0.000000</td>\n",
       "      <td>0.0</td>\n",
       "      <td>0.0</td>\n",
       "      <td>0.0</td>\n",
       "      <td>1.648919e+09</td>\n",
       "      <td>0.0</td>\n",
       "      <td>2</td>\n",
       "    </tr>\n",
       "    <tr>\n",
       "      <th>3</th>\n",
       "      <td>427.0</td>\n",
       "      <td>-854.980469</td>\n",
       "      <td>-279.785156</td>\n",
       "      <td>-327.148438</td>\n",
       "      <td>-820.312500</td>\n",
       "      <td>0.145203</td>\n",
       "      <td>-0.006836</td>\n",
       "      <td>0.991333</td>\n",
       "      <td>0.000000</td>\n",
       "      <td>0.000000</td>\n",
       "      <td>0.000000</td>\n",
       "      <td>0.0</td>\n",
       "      <td>0.0</td>\n",
       "      <td>0.0</td>\n",
       "      <td>1.648919e+09</td>\n",
       "      <td>0.0</td>\n",
       "      <td>3</td>\n",
       "    </tr>\n",
       "    <tr>\n",
       "      <th>4</th>\n",
       "      <td>427.0</td>\n",
       "      <td>456.542969</td>\n",
       "      <td>-1000.000000</td>\n",
       "      <td>-1000.000000</td>\n",
       "      <td>267.578125</td>\n",
       "      <td>0.180420</td>\n",
       "      <td>0.004150</td>\n",
       "      <td>0.982361</td>\n",
       "      <td>-124.467924</td>\n",
       "      <td>25.156740</td>\n",
       "      <td>9.793560</td>\n",
       "      <td>0.0</td>\n",
       "      <td>0.0</td>\n",
       "      <td>0.0</td>\n",
       "      <td>1.648919e+09</td>\n",
       "      <td>0.0</td>\n",
       "      <td>4</td>\n",
       "    </tr>\n",
       "    <tr>\n",
       "      <th>...</th>\n",
       "      <td>...</td>\n",
       "      <td>...</td>\n",
       "      <td>...</td>\n",
       "      <td>...</td>\n",
       "      <td>...</td>\n",
       "      <td>...</td>\n",
       "      <td>...</td>\n",
       "      <td>...</td>\n",
       "      <td>...</td>\n",
       "      <td>...</td>\n",
       "      <td>...</td>\n",
       "      <td>...</td>\n",
       "      <td>...</td>\n",
       "      <td>...</td>\n",
       "      <td>...</td>\n",
       "      <td>...</td>\n",
       "      <td>...</td>\n",
       "    </tr>\n",
       "    <tr>\n",
       "      <th>2527</th>\n",
       "      <td>637.0</td>\n",
       "      <td>-909.179688</td>\n",
       "      <td>-890.625000</td>\n",
       "      <td>-893.066406</td>\n",
       "      <td>-932.617188</td>\n",
       "      <td>0.128540</td>\n",
       "      <td>-0.003357</td>\n",
       "      <td>0.991577</td>\n",
       "      <td>-3.192252</td>\n",
       "      <td>5.584572</td>\n",
       "      <td>-1.540056</td>\n",
       "      <td>0.0</td>\n",
       "      <td>0.0</td>\n",
       "      <td>0.0</td>\n",
       "      <td>1.648919e+09</td>\n",
       "      <td>0.0</td>\n",
       "      <td>2527</td>\n",
       "    </tr>\n",
       "    <tr>\n",
       "      <th>2528</th>\n",
       "      <td>637.0</td>\n",
       "      <td>591.796875</td>\n",
       "      <td>-3.417969</td>\n",
       "      <td>-38.574219</td>\n",
       "      <td>560.058594</td>\n",
       "      <td>0.122131</td>\n",
       "      <td>0.000122</td>\n",
       "      <td>0.988525</td>\n",
       "      <td>-3.528672</td>\n",
       "      <td>4.485600</td>\n",
       "      <td>-0.493416</td>\n",
       "      <td>0.0</td>\n",
       "      <td>0.0</td>\n",
       "      <td>0.0</td>\n",
       "      <td>1.648919e+09</td>\n",
       "      <td>0.0</td>\n",
       "      <td>2528</td>\n",
       "    </tr>\n",
       "    <tr>\n",
       "      <th>2529</th>\n",
       "      <td>637.0</td>\n",
       "      <td>-799.316406</td>\n",
       "      <td>-1000.000000</td>\n",
       "      <td>-1000.000000</td>\n",
       "      <td>-789.062500</td>\n",
       "      <td>0.122131</td>\n",
       "      <td>0.000122</td>\n",
       "      <td>0.988525</td>\n",
       "      <td>-3.528672</td>\n",
       "      <td>4.485600</td>\n",
       "      <td>-0.493416</td>\n",
       "      <td>0.0</td>\n",
       "      <td>0.0</td>\n",
       "      <td>0.0</td>\n",
       "      <td>1.648919e+09</td>\n",
       "      <td>0.0</td>\n",
       "      <td>2529</td>\n",
       "    </tr>\n",
       "    <tr>\n",
       "      <th>2530</th>\n",
       "      <td>637.0</td>\n",
       "      <td>49.316406</td>\n",
       "      <td>-651.367188</td>\n",
       "      <td>-609.375000</td>\n",
       "      <td>75.683594</td>\n",
       "      <td>0.122131</td>\n",
       "      <td>0.000122</td>\n",
       "      <td>0.988525</td>\n",
       "      <td>-3.528672</td>\n",
       "      <td>4.485600</td>\n",
       "      <td>-0.493416</td>\n",
       "      <td>0.0</td>\n",
       "      <td>0.0</td>\n",
       "      <td>0.0</td>\n",
       "      <td>1.648919e+09</td>\n",
       "      <td>0.0</td>\n",
       "      <td>2530</td>\n",
       "    </tr>\n",
       "    <tr>\n",
       "      <th>2531</th>\n",
       "      <td>637.0</td>\n",
       "      <td>-1000.000000</td>\n",
       "      <td>944.824219</td>\n",
       "      <td>978.515625</td>\n",
       "      <td>-1000.000000</td>\n",
       "      <td>0.122131</td>\n",
       "      <td>0.000122</td>\n",
       "      <td>0.988525</td>\n",
       "      <td>-3.528672</td>\n",
       "      <td>4.485600</td>\n",
       "      <td>-0.493416</td>\n",
       "      <td>0.0</td>\n",
       "      <td>0.0</td>\n",
       "      <td>0.0</td>\n",
       "      <td>1.648919e+09</td>\n",
       "      <td>0.0</td>\n",
       "      <td>2531</td>\n",
       "    </tr>\n",
       "  </tbody>\n",
       "</table>\n",
       "<p>2532 rows × 17 columns</p>\n",
       "</div>"
      ],
      "text/plain": [
       "          0            1            2            3            4         5  \\\n",
       "0     427.0   270.996094 -1000.000000 -1000.000000    58.105469  0.145203   \n",
       "1     427.0 -1000.000000  -160.644531  -153.808594 -1000.000000  0.145203   \n",
       "2     427.0  -358.886719  -978.515625   994.140625  -285.156250  0.145203   \n",
       "3     427.0  -854.980469  -279.785156  -327.148438  -820.312500  0.145203   \n",
       "4     427.0   456.542969 -1000.000000 -1000.000000   267.578125  0.180420   \n",
       "...     ...          ...          ...          ...          ...       ...   \n",
       "2527  637.0  -909.179688  -890.625000  -893.066406  -932.617188  0.128540   \n",
       "2528  637.0   591.796875    -3.417969   -38.574219   560.058594  0.122131   \n",
       "2529  637.0  -799.316406 -1000.000000 -1000.000000  -789.062500  0.122131   \n",
       "2530  637.0    49.316406  -651.367188  -609.375000    75.683594  0.122131   \n",
       "2531  637.0 -1000.000000   944.824219   978.515625 -1000.000000  0.122131   \n",
       "\n",
       "             6         7           8          9        10   11   12   13  \\\n",
       "0    -0.006836  0.991333    0.000000   0.000000  0.000000  0.0  0.0  0.0   \n",
       "1    -0.006836  0.991333    0.000000   0.000000  0.000000  0.0  0.0  0.0   \n",
       "2    -0.006836  0.991333    0.000000   0.000000  0.000000  0.0  0.0  0.0   \n",
       "3    -0.006836  0.991333    0.000000   0.000000  0.000000  0.0  0.0  0.0   \n",
       "4     0.004150  0.982361 -124.467924  25.156740  9.793560  0.0  0.0  0.0   \n",
       "...        ...       ...         ...        ...       ...  ...  ...  ...   \n",
       "2527 -0.003357  0.991577   -3.192252   5.584572 -1.540056  0.0  0.0  0.0   \n",
       "2528  0.000122  0.988525   -3.528672   4.485600 -0.493416  0.0  0.0  0.0   \n",
       "2529  0.000122  0.988525   -3.528672   4.485600 -0.493416  0.0  0.0  0.0   \n",
       "2530  0.000122  0.988525   -3.528672   4.485600 -0.493416  0.0  0.0  0.0   \n",
       "2531  0.000122  0.988525   -3.528672   4.485600 -0.493416  0.0  0.0  0.0   \n",
       "\n",
       "                14   15   idx  \n",
       "0     1.648919e+09  0.0     0  \n",
       "1     1.648919e+09  0.0     1  \n",
       "2     1.648919e+09  0.0     2  \n",
       "3     1.648919e+09  0.0     3  \n",
       "4     1.648919e+09  0.0     4  \n",
       "...            ...  ...   ...  \n",
       "2527  1.648919e+09  0.0  2527  \n",
       "2528  1.648919e+09  0.0  2528  \n",
       "2529  1.648919e+09  0.0  2529  \n",
       "2530  1.648919e+09  0.0  2530  \n",
       "2531  1.648919e+09  0.0  2531  \n",
       "\n",
       "[2532 rows x 17 columns]"
      ]
     },
     "execution_count": 23,
     "metadata": {},
     "output_type": "execute_result"
    }
   ],
   "source": [
    "df = pd.DataFrame(mat.T)\n",
    "df[\"idx\"] = np.arange(len(mat[0]))\n",
    "df"
   ]
  },
  {
   "cell_type": "code",
   "execution_count": 24,
   "metadata": {},
   "outputs": [
    {
     "data": {
      "text/plain": [
       "<AxesSubplot:xlabel='idx', ylabel='1'>"
      ]
     },
     "execution_count": 24,
     "metadata": {},
     "output_type": "execute_result"
    },
    {
     "data": {
      "image/png": "[encoded data removed]",
      "text/plain": [
       "<Figure size 432x288 with 1 Axes>"
      ]
     },
     "metadata": {},
     "output_type": "display_data"
    }
   ],
   "source": [
    "sns.lineplot(x=\"idx\", y=1, data=df)"
   ]
  },
  {
   "cell_type": "code",
   "execution_count": 38,
   "metadata": {},
   "outputs": [],
   "source": [
    "denoised = pd.read_pickle(\"jack_closed_2\")"
   ]
  },
  {
   "cell_type": "code",
   "execution_count": 39,
   "metadata": {},
   "outputs": [
    {
     "data": {
      "text/html": [
       "<div>\n",
       "<style scoped>\n",
       "    .dataframe tbody tr th:only-of-type {\n",
       "        vertical-align: middle;\n",
       "    }\n",
       "\n",
       "    .dataframe tbody tr th {\n",
       "        vertical-align: top;\n",
       "    }\n",
       "\n",
       "    .dataframe thead th {\n",
       "        text-align: right;\n",
       "    }\n",
       "</style>\n",
       "<table border=\"1\" class=\"dataframe\">\n",
       "  <thead>\n",
       "    <tr style=\"text-align: right;\">\n",
       "      <th></th>\n",
       "      <th>0</th>\n",
       "      <th>1</th>\n",
       "      <th>2</th>\n",
       "      <th>3</th>\n",
       "      <th>4</th>\n",
       "      <th>5</th>\n",
       "      <th>6</th>\n",
       "      <th>7</th>\n",
       "      <th>8</th>\n",
       "      <th>9</th>\n",
       "      <th>10</th>\n",
       "      <th>11</th>\n",
       "      <th>12</th>\n",
       "      <th>13</th>\n",
       "      <th>14</th>\n",
       "      <th>15</th>\n",
       "    </tr>\n",
       "  </thead>\n",
       "  <tbody>\n",
       "    <tr>\n",
       "      <th>0</th>\n",
       "      <td>640.0</td>\n",
       "      <td>18.066406</td>\n",
       "      <td>-83.496094</td>\n",
       "      <td>4.849068</td>\n",
       "      <td>5.971483</td>\n",
       "      <td>-0.226746</td>\n",
       "      <td>-0.014893</td>\n",
       "      <td>0.980164</td>\n",
       "      <td>0.000000</td>\n",
       "      <td>0.000000</td>\n",
       "      <td>0.000000</td>\n",
       "      <td>0.0</td>\n",
       "      <td>0.0</td>\n",
       "      <td>0.0</td>\n",
       "      <td>1.648925e+09</td>\n",
       "      <td>0.0</td>\n",
       "    </tr>\n",
       "    <tr>\n",
       "      <th>1</th>\n",
       "      <td>640.0</td>\n",
       "      <td>21.240234</td>\n",
       "      <td>-92.773438</td>\n",
       "      <td>4.028138</td>\n",
       "      <td>3.222409</td>\n",
       "      <td>-0.226746</td>\n",
       "      <td>-0.014893</td>\n",
       "      <td>0.980164</td>\n",
       "      <td>0.000000</td>\n",
       "      <td>0.000000</td>\n",
       "      <td>0.000000</td>\n",
       "      <td>0.0</td>\n",
       "      <td>0.0</td>\n",
       "      <td>0.0</td>\n",
       "      <td>1.648925e+09</td>\n",
       "      <td>0.0</td>\n",
       "    </tr>\n",
       "    <tr>\n",
       "      <th>2</th>\n",
       "      <td>640.0</td>\n",
       "      <td>12.695312</td>\n",
       "      <td>-92.773438</td>\n",
       "      <td>1.959902</td>\n",
       "      <td>0.622047</td>\n",
       "      <td>-0.226746</td>\n",
       "      <td>-0.014893</td>\n",
       "      <td>0.980164</td>\n",
       "      <td>0.000000</td>\n",
       "      <td>0.000000</td>\n",
       "      <td>0.000000</td>\n",
       "      <td>0.0</td>\n",
       "      <td>0.0</td>\n",
       "      <td>0.0</td>\n",
       "      <td>1.648925e+09</td>\n",
       "      <td>0.0</td>\n",
       "    </tr>\n",
       "    <tr>\n",
       "      <th>3</th>\n",
       "      <td>640.0</td>\n",
       "      <td>6.673177</td>\n",
       "      <td>-92.773438</td>\n",
       "      <td>-1.304761</td>\n",
       "      <td>-1.829605</td>\n",
       "      <td>-0.226746</td>\n",
       "      <td>-0.014893</td>\n",
       "      <td>0.980164</td>\n",
       "      <td>0.000000</td>\n",
       "      <td>0.000000</td>\n",
       "      <td>0.000000</td>\n",
       "      <td>0.0</td>\n",
       "      <td>0.0</td>\n",
       "      <td>0.0</td>\n",
       "      <td>1.648925e+09</td>\n",
       "      <td>0.0</td>\n",
       "    </tr>\n",
       "    <tr>\n",
       "      <th>4</th>\n",
       "      <td>640.0</td>\n",
       "      <td>8.463542</td>\n",
       "      <td>-87.402344</td>\n",
       "      <td>-5.225678</td>\n",
       "      <td>-4.132546</td>\n",
       "      <td>-0.220032</td>\n",
       "      <td>0.028137</td>\n",
       "      <td>0.985657</td>\n",
       "      <td>-113.343636</td>\n",
       "      <td>3.401580</td>\n",
       "      <td>79.111032</td>\n",
       "      <td>0.0</td>\n",
       "      <td>0.0</td>\n",
       "      <td>0.0</td>\n",
       "      <td>1.648925e+09</td>\n",
       "      <td>0.0</td>\n",
       "    </tr>\n",
       "    <tr>\n",
       "      <th>...</th>\n",
       "      <td>...</td>\n",
       "      <td>...</td>\n",
       "      <td>...</td>\n",
       "      <td>...</td>\n",
       "      <td>...</td>\n",
       "      <td>...</td>\n",
       "      <td>...</td>\n",
       "      <td>...</td>\n",
       "      <td>...</td>\n",
       "      <td>...</td>\n",
       "      <td>...</td>\n",
       "      <td>...</td>\n",
       "      <td>...</td>\n",
       "      <td>...</td>\n",
       "      <td>...</td>\n",
       "      <td>...</td>\n",
       "    </tr>\n",
       "    <tr>\n",
       "      <th>2491</th>\n",
       "      <td>847.0</td>\n",
       "      <td>-12.695312</td>\n",
       "      <td>-57.128906</td>\n",
       "      <td>-45.454098</td>\n",
       "      <td>-37.268470</td>\n",
       "      <td>-0.229980</td>\n",
       "      <td>0.029358</td>\n",
       "      <td>0.981140</td>\n",
       "      <td>-5.278056</td>\n",
       "      <td>3.349248</td>\n",
       "      <td>5.307960</td>\n",
       "      <td>0.0</td>\n",
       "      <td>0.0</td>\n",
       "      <td>0.0</td>\n",
       "      <td>1.648925e+09</td>\n",
       "      <td>0.0</td>\n",
       "    </tr>\n",
       "    <tr>\n",
       "      <th>2492</th>\n",
       "      <td>847.0</td>\n",
       "      <td>-10.416667</td>\n",
       "      <td>-47.363281</td>\n",
       "      <td>-45.240686</td>\n",
       "      <td>-38.921670</td>\n",
       "      <td>-0.227722</td>\n",
       "      <td>0.029907</td>\n",
       "      <td>0.990295</td>\n",
       "      <td>-5.509812</td>\n",
       "      <td>3.902472</td>\n",
       "      <td>5.076204</td>\n",
       "      <td>0.0</td>\n",
       "      <td>0.0</td>\n",
       "      <td>0.0</td>\n",
       "      <td>1.648925e+09</td>\n",
       "      <td>0.0</td>\n",
       "    </tr>\n",
       "    <tr>\n",
       "      <th>2493</th>\n",
       "      <td>847.0</td>\n",
       "      <td>-2.441406</td>\n",
       "      <td>-47.363281</td>\n",
       "      <td>-44.552477</td>\n",
       "      <td>-38.690117</td>\n",
       "      <td>-0.227722</td>\n",
       "      <td>0.029907</td>\n",
       "      <td>0.990295</td>\n",
       "      <td>-5.509812</td>\n",
       "      <td>3.902472</td>\n",
       "      <td>5.076204</td>\n",
       "      <td>0.0</td>\n",
       "      <td>0.0</td>\n",
       "      <td>0.0</td>\n",
       "      <td>1.648925e+09</td>\n",
       "      <td>0.0</td>\n",
       "    </tr>\n",
       "    <tr>\n",
       "      <th>2494</th>\n",
       "      <td>847.0</td>\n",
       "      <td>-3.092448</td>\n",
       "      <td>-46.875000</td>\n",
       "      <td>-43.596935</td>\n",
       "      <td>-36.573813</td>\n",
       "      <td>-0.227722</td>\n",
       "      <td>0.029907</td>\n",
       "      <td>0.990295</td>\n",
       "      <td>-5.509812</td>\n",
       "      <td>3.902472</td>\n",
       "      <td>5.076204</td>\n",
       "      <td>0.0</td>\n",
       "      <td>0.0</td>\n",
       "      <td>0.0</td>\n",
       "      <td>1.648925e+09</td>\n",
       "      <td>0.0</td>\n",
       "    </tr>\n",
       "    <tr>\n",
       "      <th>2495</th>\n",
       "      <td>847.0</td>\n",
       "      <td>-14.973958</td>\n",
       "      <td>-46.875000</td>\n",
       "      <td>-42.738097</td>\n",
       "      <td>-32.572756</td>\n",
       "      <td>-0.227722</td>\n",
       "      <td>0.029907</td>\n",
       "      <td>0.990295</td>\n",
       "      <td>-5.509812</td>\n",
       "      <td>3.902472</td>\n",
       "      <td>5.076204</td>\n",
       "      <td>0.0</td>\n",
       "      <td>0.0</td>\n",
       "      <td>0.0</td>\n",
       "      <td>1.648925e+09</td>\n",
       "      <td>0.0</td>\n",
       "    </tr>\n",
       "  </tbody>\n",
       "</table>\n",
       "<p>2496 rows × 16 columns</p>\n",
       "</div>"
      ],
      "text/plain": [
       "         0          1          2          3          4         5         6   \\\n",
       "0     640.0  18.066406 -83.496094   4.849068   5.971483 -0.226746 -0.014893   \n",
       "1     640.0  21.240234 -92.773438   4.028138   3.222409 -0.226746 -0.014893   \n",
       "2     640.0  12.695312 -92.773438   1.959902   0.622047 -0.226746 -0.014893   \n",
       "3     640.0   6.673177 -92.773438  -1.304761  -1.829605 -0.226746 -0.014893   \n",
       "4     640.0   8.463542 -87.402344  -5.225678  -4.132546 -0.220032  0.028137   \n",
       "...     ...        ...        ...        ...        ...       ...       ...   \n",
       "2491  847.0 -12.695312 -57.128906 -45.454098 -37.268470 -0.229980  0.029358   \n",
       "2492  847.0 -10.416667 -47.363281 -45.240686 -38.921670 -0.227722  0.029907   \n",
       "2493  847.0  -2.441406 -47.363281 -44.552477 -38.690117 -0.227722  0.029907   \n",
       "2494  847.0  -3.092448 -46.875000 -43.596935 -36.573813 -0.227722  0.029907   \n",
       "2495  847.0 -14.973958 -46.875000 -42.738097 -32.572756 -0.227722  0.029907   \n",
       "\n",
       "            7           8         9          10   11   12   13            14  \\\n",
       "0     0.980164    0.000000  0.000000   0.000000  0.0  0.0  0.0  1.648925e+09   \n",
       "1     0.980164    0.000000  0.000000   0.000000  0.0  0.0  0.0  1.648925e+09   \n",
       "2     0.980164    0.000000  0.000000   0.000000  0.0  0.0  0.0  1.648925e+09   \n",
       "3     0.980164    0.000000  0.000000   0.000000  0.0  0.0  0.0  1.648925e+09   \n",
       "4     0.985657 -113.343636  3.401580  79.111032  0.0  0.0  0.0  1.648925e+09   \n",
       "...        ...         ...       ...        ...  ...  ...  ...           ...   \n",
       "2491  0.981140   -5.278056  3.349248   5.307960  0.0  0.0  0.0  1.648925e+09   \n",
       "2492  0.990295   -5.509812  3.902472   5.076204  0.0  0.0  0.0  1.648925e+09   \n",
       "2493  0.990295   -5.509812  3.902472   5.076204  0.0  0.0  0.0  1.648925e+09   \n",
       "2494  0.990295   -5.509812  3.902472   5.076204  0.0  0.0  0.0  1.648925e+09   \n",
       "2495  0.990295   -5.509812  3.902472   5.076204  0.0  0.0  0.0  1.648925e+09   \n",
       "\n",
       "       15  \n",
       "0     0.0  \n",
       "1     0.0  \n",
       "2     0.0  \n",
       "3     0.0  \n",
       "4     0.0  \n",
       "...   ...  \n",
       "2491  0.0  \n",
       "2492  0.0  \n",
       "2493  0.0  \n",
       "2494  0.0  \n",
       "2495  0.0  \n",
       "\n",
       "[2496 rows x 16 columns]"
      ]
     },
     "execution_count": 39,
     "metadata": {},
     "output_type": "execute_result"
    }
   ],
   "source": [
    "denoised"
   ]
  },
  {
   "cell_type": "code",
   "execution_count": 87,
   "metadata": {},
   "outputs": [
    {
     "data": {
      "text/plain": [
       "<AxesSubplot:>"
      ]
     },
     "execution_count": 87,
     "metadata": {},
     "output_type": "execute_result"
    },
    {
     "data": {
      "image/png": "[encoded data removed]",
      "text/plain": [
       "<Figure size 432x288 with 1 Axes>"
      ]
     },
     "metadata": {},
     "output_type": "display_data"
    }
   ],
   "source": [
    "denoised = pd.read_pickle(\"jack_open_3\")\n",
    "denoised[\"axis\"] = np.arange(len(denoised[0]))\n",
    "# sns.lineplot(x=\"axis\", y=denoised[2], data=denoised)\n",
    "sns.lineplot(data=denoised[[1,2,3,4]])\n"
   ]
  },
  {
   "cell_type": "code",
   "execution_count": 86,
   "metadata": {},
   "outputs": [
    {
     "data": {
      "text/plain": [
       "<AxesSubplot:>"
      ]
     },
     "execution_count": 86,
     "metadata": {},
     "output_type": "execute_result"
    },
    {
     "data": {
      "image/png": "[encoded data removed]",
      "text/plain": [
       "<Figure size 432x288 with 1 Axes>"
      ]
     },
     "metadata": {},
     "output_type": "display_data"
    }
   ],
   "source": [
    "denoised = pd.read_pickle(\"jack_open_4\")\n",
    "denoised[\"axis\"] = np.arange(len(denoised[0]))\n",
    "# sns.lineplot(x=\"axis\", y=denoised[2], data=denoised)\n",
    "sns.lineplot(data=denoised[[1]])\n"
   ]
  },
  {
   "cell_type": "code",
   "execution_count": 55,
   "metadata": {},
   "outputs": [
    {
     "ename": "AttributeError",
     "evalue": "module 'brainflow' has no attribute 'get_eeg_channels'",
     "output_type": "error",
     "traceback": [
      "\u001b[0;31m---------------------------------------------------------------------------\u001b[0m",
      "\u001b[0;31mAttributeError\u001b[0m                            Traceback (most recent call last)",
      "\u001b[1;32m/Users/kang828/Documents/GitHub/neurahack-12/test-data-explorer.ipynb Cell 13'\u001b[0m in \u001b[0;36m<cell line: 2>\u001b[0;34m()\u001b[0m\n\u001b[1;32m      <a href='vscode-notebook-cell:/Users/kang828/Documents/GitHub/neurahack-12/test-data-explorer.ipynb#ch0000012?line=0'>1</a>\u001b[0m \u001b[39mimport\u001b[39;00m \u001b[39mbrainflow\u001b[39;00m\n\u001b[0;32m----> <a href='vscode-notebook-cell:/Users/kang828/Documents/GitHub/neurahack-12/test-data-explorer.ipynb#ch0000012?line=1'>2</a>\u001b[0m brainflow\u001b[39m.\u001b[39;49mget_eeg_channels(\u001b[39m38\u001b[39m)\n",
      "\u001b[0;31mAttributeError\u001b[0m: module 'brainflow' has no attribute 'get_eeg_channels'"
     ]
    }
   ],
   "source": [
    "import brainflow\n",
    "brainflow.get_eeg_channels(38)"
   ]
  },
  {
   "cell_type": "code",
   "execution_count": 56,
   "metadata": {},
   "outputs": [
    {
     "name": "stdout",
     "output_type": "stream",
     "text": [
      "{'accel_channels': [5, 6, 7],\n",
      " 'eeg_channels': [1, 2, 3, 4],\n",
      " 'eeg_names': 'TP9,Fp1,Fp2,TP10',\n",
      " 'gyro_channels': [8, 9, 10],\n",
      " 'marker_channel': 15,\n",
      " 'name': 'Muse2',\n",
      " 'num_rows': 16,\n",
      " 'package_num_channel': 0,\n",
      " 'ppg_channels': [11, 12, 13],\n",
      " 'sampling_rate': 256,\n",
      " 'timestamp_channel': 14}\n"
     ]
    }
   ],
   "source": [
    "from pprint import pprint\n",
    "\n",
    "import brainflow\n",
    "from brainflow.board_shim import BoardShim, BoardIds\n",
    "\n",
    "# board_id = BoardIds.SYNTHETIC_BOARD.value\n",
    "board_id = 38\n",
    "pprint(BoardShim.get_board_descr(board_id))"
   ]
  },
  {
   "cell_type": "code",
   "execution_count": 59,
   "metadata": {},
   "outputs": [
    {
     "data": {
      "text/plain": [
       "Index([0, 1, 2, 3, 4, 5, 6, 7, 8, 9, 10, 11, 12, 13, 14, 15, 'idx'], dtype='object')"
      ]
     },
     "execution_count": 59,
     "metadata": {},
     "output_type": "execute_result"
    }
   ],
   "source": [
    "df.columns"
   ]
  },
  {
   "cell_type": "code",
   "execution_count": null,
   "metadata": {},
   "outputs": [],
   "source": []
  }
 ],
 "metadata": {
  "interpreter": {
   "hash": "a66773685bcb30e8a1abe1c6876cec4329ca11f56952d963da70c67dc62248a0"
  },
  "kernelspec": {
   "display_name": "Python 3.10.4 ('neurahack')",
   "language": "python",
   "name": "python3"
  },
  "language_info": {
   "codemirror_mode": {
    "name": "ipython",
    "version": 3
   },
   "file_extension": ".py",
   "mimetype": "text/x-python",
   "name": "python",
   "nbconvert_exporter": "python",
   "pygments_lexer": "ipython3",
   "version": "3.10.4"
  },
  "orig_nbformat": 4
 },
 "nbformat": 4,
 "nbformat_minor": 2
}
